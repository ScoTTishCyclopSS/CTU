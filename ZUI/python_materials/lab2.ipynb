{
 "cells": [
  {
   "cell_type": "markdown",
   "metadata": {
    "id": "8so4h3-ogw3i"
   },
   "source": [
    "# Lab 2: Markov Decision Process (MDP)\n"
   ]
  },
  {
   "cell_type": "markdown",
   "metadata": {
    "id": "ljpxkJDY79Sf"
   },
   "source": [
    "## The Maze\n"
   ]
  },
  {
   "cell_type": "markdown",
   "metadata": {
    "id": "kiYpieL385Hl"
   },
   "source": [
    "Let's look back at the example maze from Lab 1.\n",
    "```\n",
    "########\n",
    "#  G#G #\n",
    "# # ## #\n",
    "# @ G  #\n",
    "########\n",
    "```"
   ]
  },
  {
   "cell_type": "markdown",
   "metadata": {
    "id": "sFL6GNulnzm1"
   },
   "source": [
    "In the example, what are the **actions**?\n",
    "\n",
    "How does the environment respond to actions? What are the **transitions**?\n",
    "\n",
    "How do we encode the player's goal? What would be the **reward**?\n",
    "\n",
    "Are there different options? What are their advantages?\n"
   ]
  },
  {
   "cell_type": "markdown",
   "metadata": {
    "id": "caO-dKX_lVDR"
   },
   "source": [
    "## The MDP\n"
   ]
  },
  {
   "cell_type": "markdown",
   "metadata": {
    "id": "GOuDk2rC8-Zy"
   },
   "source": [
    "The **Markov Decision Process** (MDP) is commonly used to model single-agent environments with perfect observations. Its main parts are:\n",
    "\n",
    "$\\mathcal S$ - state space\n",
    "\n",
    "$\\mathcal A$ - action space\n",
    "\n",
    "$T$ - transition function\n",
    "\n",
    "$R$ - reward function"
   ]
  },
  {
   "cell_type": "markdown",
   "metadata": {
    "id": "FisTaixr8GrG"
   },
   "source": [
    "State space $\\mathcal S$ is an enumeration of all possible states in the problem.\n",
    "- What if there are infinite possible states?\n",
    "\n",
    "Action space $\\mathcal A$ define the possible actions. \n",
    "- What about infinite action space? (e.g., $accelerate(0.23)$)\n",
    "- Can it be state dependent?\n",
    "\n",
    "Transition function $T$ defines what happens when applying an action $a$ in a state $s$. \n",
    "- When deterministic: $T: \\mathcal S \\times \\mathcal A \\rightarrow \\mathcal S$.\n",
    "- When stochastic: $T(s, a, s') = Pr\\{s' | s, a\\}$.\n",
    "\n",
    "Similarly, the reward function $R(s, a, s')$ defines the rewards.\n",
    "\n",
    "**Note.** The lectures define the *dynamics* of the MDP concisely as follows:\n",
    "$ p(s', r | s, a) \\leftarrow Pr(s', r | s, a) $ "
   ]
  },
  {
   "cell_type": "markdown",
   "metadata": {
    "id": "gOalfpwk9G2N"
   },
   "source": [
    "## Case study: Atari - Pong"
   ]
  },
  {
   "cell_type": "markdown",
   "metadata": {
    "id": "VFGsjybsvGiD"
   },
   "source": [
    "You all know Pong. Players control paddles, bouncing a ball around and trying to score.\n",
    "\n",
    "![pong.jpg](data:image/jpeg;base64,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)"
   ]
  },
  {
   "cell_type": "markdown",
   "metadata": {
    "id": "mOqO7o7Nw7Nr"
   },
   "source": [
    "What would be the **state** in this case?\n",
    "- What are the different options? \n",
    "- Can we use the internal state of the game?\n",
    "- What about a general representation for all possible Atari games?\n",
    "- What is the **Markov property** and would it be preserved?\n",
    "\n",
    "Is the representation finite?\n",
    "\n",
    "\n"
   ]
  },
  {
   "cell_type": "markdown",
   "metadata": {
    "id": "SZFEEztoxtaW"
   },
   "source": [
    "Let's assume the player controls only a single paddle. What are the **actions**?"
   ]
  },
  {
   "cell_type": "markdown",
   "metadata": {
    "id": "p5WJTqBgxz2N"
   },
   "source": [
    "What are the **transitions** and **rewards**?\n",
    "- What if the game is really complex or we cannot access its internal state? (i.e., we have only a model)\n",
    "- Advanced RL methods: [Reinforcement Learning: An Introduction](http://incompleteideas.net/book/the-book.html) book."
   ]
  },
  {
   "cell_type": "markdown",
   "metadata": {
    "id": "C9GMmruRpLS5"
   },
   "source": [
    "## Practice Time"
   ]
  },
  {
   "cell_type": "markdown",
   "metadata": {},
   "source": [
    "### Small numpy cheatsheet"
   ]
  },
  {
   "cell_type": "code",
   "execution_count": 2,
   "metadata": {},
   "outputs": [],
   "source": [
    "import numpy as np"
   ]
  },
  {
   "cell_type": "code",
   "execution_count": 3,
   "metadata": {},
   "outputs": [
    {
     "name": "stdout",
     "output_type": "stream",
     "text": [
      "[[[0. 0. 0.]\n",
      "  [0. 0. 0.]\n",
      "  [0. 0. 0.]]\n",
      "\n",
      " [[0. 0. 0.]\n",
      "  [0. 0. 0.]\n",
      "  [0. 0. 0.]]] (2, 3, 3)\n"
     ]
    }
   ],
   "source": [
    "x = np.zeros((2,3,3))  # Tensor\n",
    "print(x, x.shape)"
   ]
  },
  {
   "cell_type": "code",
   "execution_count": 4,
   "metadata": {},
   "outputs": [
    {
     "name": "stdout",
     "output_type": "stream",
     "text": [
      "[[[0. 0. 0.]\n",
      "  [0. 0. 1.]\n",
      "  [0. 0. 0.]]\n",
      "\n",
      " [[0. 0. 0.]\n",
      "  [0. 0. 0.]\n",
      "  [0. 0. 0.]]]\n"
     ]
    }
   ],
   "source": [
    "x[0,1,2] = 1\n",
    "print(x)  # Where will the value be put?"
   ]
  },
  {
   "cell_type": "code",
   "execution_count": 12,
   "metadata": {},
   "outputs": [
    {
     "name": "stdout",
     "output_type": "stream",
     "text": [
      "(1, 1, 3)\n"
     ]
    }
   ],
   "source": [
    "print(x[1:, 1:2, :].shape)  # Try to predict the shape!"
   ]
  },
  {
   "cell_type": "markdown",
   "metadata": {
    "id": "zvLy-qWqDfD1"
   },
   "source": [
    "### The Maze again"
   ]
  },
  {
   "cell_type": "markdown",
   "metadata": {
    "id": "lHJRbmtAE34S"
   },
   "source": [
    "Bellow is the good old Maze. It's the same as in Lab 1."
   ]
  },
  {
   "cell_type": "code",
   "execution_count": 6,
   "metadata": {
    "id": "bPuYApbtAkVY"
   },
   "outputs": [],
   "source": [
    "from copy import deepcopy\n",
    "from typing import List, Dict, Tuple, Set\n",
    "\n",
    "Action = str  # Type alias\n",
    "\n",
    "\n",
    "class State:\n",
    "    def __init__(self, maze_rows: List[str]):\n",
    "        self._maze_rows = [list(row) for row in maze_rows]\n",
    "\n",
    "        # Make sure the maze has a rectangular shape, and has a proper boundary.\n",
    "        assert all(len(row) == self.num_cols() for row in self._maze_rows)\n",
    "        assert set(self._maze_rows[0]) == {\"#\"} and set(self._maze_rows[-1]) == {\"#\"}\n",
    "        assert all(row[0] == \"#\" and row[-1] == \"#\" for row in self._maze_rows)\n",
    "\n",
    "    def actions(self) -> List[Action]:\n",
    "        \"\"\"\n",
    "        :return: list of actions available at the current state.\n",
    "        \"\"\"\n",
    "        return [\n",
    "            \"u\",  # Up\n",
    "            \"d\",  # Down\n",
    "            \"l\",  # Left\n",
    "            \"r\",  # Right\n",
    "        ]\n",
    "\n",
    "    def apply(self, action: Action) -> None:\n",
    "        \"\"\"\n",
    "        Change current state by applying an action.\n",
    "        \"\"\"\n",
    "\n",
    "        assert action in self.actions()\n",
    "        i, j = self.current_position()\n",
    "\n",
    "        # Maze rows is a List, this makes a reference in Python, not a copy.\n",
    "        m = self._maze_rows\n",
    "\n",
    "        # These bound checks work because we made sure that the whole maze is\n",
    "        # delimited with char #   -- otherwise we would have to make much more\n",
    "        # complicated if statements! This is a common implementation trick, used\n",
    "        # for example in Chess or Go engines.\n",
    "        if action == \"u\" and m[i - 1][j] != \"#\":\n",
    "            m[i][j], m[i - 1][j] = \" \", \"@\"\n",
    "        elif action == \"d\" and m[i + 1][j] != \"#\":\n",
    "            m[i][j], m[i + 1][j] = \" \", \"@\"\n",
    "        elif action == \"l\" and m[i][j - 1] != \"#\":\n",
    "            m[i][j], m[i][j - 1] = \" \", \"@\"\n",
    "        elif action == \"r\" and m[i][j + 1] != \"#\":\n",
    "            m[i][j], m[i][j + 1] = \" \", \"@\"\n",
    "\n",
    "    def copy(self):\n",
    "        \"\"\"\n",
    "        Make a copy of the current state.\n",
    "        \"\"\"\n",
    "        return State(deepcopy(self._maze_rows))\n",
    "\n",
    "    # -- Maze specific methods ---------------------------------------------------\n",
    "\n",
    "    def num_rows(self):\n",
    "        return len(self._maze_rows)\n",
    "\n",
    "    def num_cols(self):\n",
    "        return len(self._maze_rows[0])\n",
    "\n",
    "    def current_position(self) -> Tuple[int, int]:\n",
    "        # Find current position: it is denoted using an @ sign.\n",
    "        for i in range(self.num_rows()):\n",
    "            for j in range(self.num_cols()):\n",
    "                if self._maze_rows[i][j] == \"@\":\n",
    "                    return i, j\n",
    "        raise RuntimeError(\n",
    "            \"Invalid maze: current position not found in: \" + \"\\n\".join(self._maze_rows)\n",
    "        )\n",
    "\n",
    "    def captures_gold(self, action: Action):\n",
    "        i, j = self.current_position()\n",
    "        m = self._maze_rows\n",
    "        return (\n",
    "            (action == \"u\" and m[i - 1][j] == \"G\")\n",
    "            or (action == \"d\" and m[i + 1][j] == \"G\")\n",
    "            or (action == \"l\" and m[i][j - 1] == \"G\")\n",
    "            or (action == \"r\" and m[i][j + 1] == \"G\")\n",
    "        )\n",
    "\n",
    "    def has_any_gold(self):\n",
    "        for i in range(self.num_rows()):\n",
    "            for j in range(self.num_cols()):\n",
    "                if self._maze_rows[i][j] == \"G\":\n",
    "                    return True\n",
    "        return False\n",
    "\n",
    "    # -- Helper methods ----------------------------------------------------------\n",
    "\n",
    "    def __str__(self):\n",
    "        return \"\\n\".join([\"\".join(row) for row in self._maze_rows])\n",
    "\n",
    "    def __eq__(self, other):\n",
    "        return self._maze_rows == other._maze_rows\n",
    "\n",
    "    def __hash__(self):\n",
    "        return hash(str(self))\n",
    "\n",
    "    def __repr__(self):\n",
    "        return str(self)"
   ]
  },
  {
   "cell_type": "markdown",
   "metadata": {
    "id": "aZJqZMNPE9kx"
   },
   "source": [
    "In the last lab, we created a function to get all possible transitions for further visualization.\n",
    "\n",
    "Let's change it to get all possible *states* and *transitions* between them, along with the *reward*. Let the reward be $1$ if any gold is consumed, otherwise $-0.1$. The small negative reward is common incentive to find the shortest solution. Other choices of negative reward would be fine as well -- the choice of -0.1 is arbitrary."
   ]
  },
  {
   "cell_type": "code",
   "execution_count": 7,
   "metadata": {
    "id": "H1ABwRriD9jg"
   },
   "outputs": [],
   "source": [
    "Transition = Tuple[int, int, Action, float]  # transition (from_idx, to_idx, action, reward)\n",
    "\n",
    "\n",
    "def get_all_transitions(init_state: State) -> Tuple[List[State], Set[Transition]]:\n",
    "    states = [init_state]  # List of unique States. We use list to index them with a number.\n",
    "    transitions = set()    # Set of transitions.\n",
    "    opened = [0]           # List of open state indices that we did not go through yet.\n",
    "\n",
    "    while len(opened) > 0:\n",
    "        from_idx = opened.pop()\n",
    "        state = states[from_idx]\n",
    "\n",
    "        for action in state.actions():\n",
    "            next_state = state.copy()\n",
    "            next_state.apply(action)\n",
    "\n",
    "            reward = 1 if state.captures_gold(action) else -0.1\n",
    "\n",
    "            if next_state in states:\n",
    "                # State was visited.\n",
    "                to_idx = states.index(next_state)\n",
    "            else:\n",
    "                # Not visited yet, add to open.\n",
    "                states.append(next_state)\n",
    "                to_idx = len(states) - 1\n",
    "                opened.append(to_idx)\n",
    "\n",
    "            transitions.add((from_idx, to_idx, action, reward))\n",
    "\n",
    "    return states, transitions"
   ]
  },
  {
   "cell_type": "markdown",
   "metadata": {
    "id": "2iT7_6Wnnpqa"
   },
   "source": [
    "*Bonus question*: What is the time complexity of the above algorithm? Can we improve it?"
   ]
  },
  {
   "cell_type": "markdown",
   "metadata": {
    "id": "llsGs383DinH"
   },
   "source": [
    "## Solving the Maze as an MDP\n",
    "\n"
   ]
  },
  {
   "cell_type": "markdown",
   "metadata": {
    "id": "zIZ6Shf3obuc"
   },
   "source": [
    "We'll use `pymdptoolbox` library ([code](https://github.com/sawcordwell/pymdptoolbox) / [docs](https://pymdptoolbox.readthedocs.io/en/latest/)). Let's install it and import it."
   ]
  },
  {
   "cell_type": "code",
   "execution_count": 13,
   "metadata": {
    "colab": {
     "base_uri": "https://localhost:8080/"
    },
    "id": "P-qhdPThAjEt",
    "outputId": "bb3e4b55-e8f5-454e-b63b-25f5d85ea0dc"
   },
   "outputs": [
    {
     "name": "stdout",
     "output_type": "stream",
     "text": [
      "Requirement already satisfied: pymdptoolbox in c:\\users\\fedti\\appdata\\local\\programs\\python\\python310\\lib\\site-packages (4.0b3)\n",
      "Requirement already satisfied: numpy in c:\\users\\fedti\\appdata\\local\\programs\\python\\python310\\lib\\site-packages (from pymdptoolbox) (1.22.2)\n",
      "Requirement already satisfied: scipy in c:\\users\\fedti\\appdata\\local\\programs\\python\\python310\\lib\\site-packages (from pymdptoolbox) (1.8.0)\n"
     ]
    },
    {
     "name": "stderr",
     "output_type": "stream",
     "text": [
      "WARNING: You are using pip version 21.2.4; however, version 22.0.3 is available.\n",
      "You should consider upgrading via the 'C:\\Users\\fedti\\AppData\\Local\\Programs\\Python\\Python310\\python.exe -m pip install --upgrade pip' command.\n"
     ]
    }
   ],
   "source": [
    "!pip install pymdptoolbox\n",
    "import mdptoolbox"
   ]
  },
  {
   "cell_type": "markdown",
   "metadata": {
    "id": "qcKTcIRDq_Sh"
   },
   "source": [
    "---\n",
    "Let's define a sample maze and get its states and transitions between them.\n",
    "\n"
   ]
  },
  {
   "cell_type": "code",
   "execution_count": 14,
   "metadata": {
    "colab": {
     "base_uri": "https://localhost:8080/"
    },
    "id": "IvfhdKnKuV7G",
    "outputId": "41852437-e624-4416-ce06-bb213e583b57"
   },
   "outputs": [
    {
     "name": "stdout",
     "output_type": "stream",
     "text": [
      "There are 67 states and total of 268 transitions.\n"
     ]
    }
   ],
   "source": [
    "maze3 = State([\"########\",\n",
    "               \"#  G#G #\",\n",
    "               \"# # ## #\",\n",
    "               \"#@  G  #\",\n",
    "               \"########\"])\n",
    "\n",
    "states, transitions = get_all_transitions(maze3)\n",
    "\n",
    "print(f\"There are {len(states)} states and total of {len(transitions)} transitions.\")"
   ]
  },
  {
   "cell_type": "code",
   "execution_count": 17,
   "metadata": {
    "id": "nS_cMM8QGGMX"
   },
   "outputs": [],
   "source": [
    "import graphviz\n",
    "\n",
    "\n",
    "def viz_state_space(mdp: Tuple[List[State], set]) -> graphviz.Digraph:\n",
    "    states, edges = mdp\n",
    "    graph = graphviz.Digraph(strict=False, engine=\"fdp\")  # Allow multi-edges\n",
    "    graph.node_attr[\"fontname\"] = \"monospace\"\n",
    "\n",
    "    for i, s in enumerate(states):\n",
    "        style_args = dict(color=\"red\", fontcolor=\"red\") if i == 0 else dict()\n",
    "        graph.node(str(s), **style_args)\n",
    "\n",
    "    for i, j, action, reward in edges:\n",
    "        from_state, to_state = states[i], states[j]\n",
    "        graph.edge(\n",
    "            str(from_state), str(to_state), key=action, label=f\"{action}: {reward}\"\n",
    "        )\n",
    "\n",
    "    return graph"
   ]
  },
  {
   "cell_type": "code",
   "execution_count": null,
   "metadata": {
    "colab": {
     "base_uri": "https://localhost:8080/",
     "height": 198
    },
    "id": "Ci3dBQTIGH2f",
    "outputId": "e6f03a59-ec0c-4f8f-b57e-ee00f13953c6"
   },
   "outputs": [],
   "source": [
    "from IPython.display import display, HTML\n",
    "\n",
    "# Make sure the generated graph fits into view... it can get quite big!\n",
    "display(HTML(\"<style>svg{width:800px !important;height:600px !important;</style>\"))\n",
    "\n",
    "viz_state_space(get_all_transitions(maze3))"
   ]
  },
  {
   "cell_type": "markdown",
   "metadata": {
    "id": "jI-WKEsBwD-R"
   },
   "source": [
    "The `pymdptoolbox` library needs the MDP - states, actions, transitions and rewards in form of matrices. If needed, look at the documentation for [mdptoolbox.mdp.MDP](https://pymdptoolbox.readthedocs.io/en/latest/api/mdp.html#mdptoolbox.mdp.MDP).\n",
    "\n",
    "The transitions should be a tensor of shape $(A, S, S)$, where $A, S$ are the sizes of action and state spaces. The matrix describes the transition function for each action $a$ and states $s_i, s_j$. Since we are in deterministic environment, the matrix will be sparse with either 0s or 1s.\n",
    "\n",
    "Let's transform these states and transitions into the matrix. \n"
   ]
  },
  {
   "cell_type": "markdown",
   "metadata": {},
   "source": [
    "## Task 1: Fill the transition matrix\n"
   ]
  },
  {
   "cell_type": "markdown",
   "metadata": {},
   "source": [
    "Implement the following method that fills the matrix such that `T[a,i,j] = 1` iff there exists a transition from $s_i$ to $s_j$ with action $a$, else the probability is zero."
   ]
  },
  {
   "cell_type": "code",
   "execution_count": 20,
   "metadata": {
    "id": "pO1y-RTxvglM"
   },
   "outputs": [],
   "source": [
    "def transition_matrix(actions: List[Action], \n",
    "                      states: List[State], \n",
    "                      transitions: List[Transition]) -> np.array:\n",
    "    \n",
    "    T = np.zeros((len(actions), len(states), len(states)))\n",
    "    \n",
    "    for i, j, action, reward in transitions:\n",
    "        a = actions.index(action)\n",
    "        T[a, i, j] = 1\n",
    "\n",
    "    return T"
   ]
  },
  {
   "cell_type": "markdown",
   "metadata": {
    "id": "ZdR909yTz-w_"
   },
   "source": [
    "Good. Let's now get a reward matrix. It's shape should be $(S, A)$ and contain rewards for $r(s, a)$ function. We've already defined the rewards in the transitions, so let's use it."
   ]
  },
  {
   "cell_type": "markdown",
   "metadata": {},
   "source": [
    "## Task 2: Fill the reward matrix\n",
    "\n",
    "Implement the following method that fills the matrix such that `R[i,a] = 1` iff a gold is consumed starting at $s_i$ with action $a$, else -0.1."
   ]
  },
  {
   "cell_type": "code",
   "execution_count": 23,
   "metadata": {
    "id": "WmJoUkDV0qWy"
   },
   "outputs": [],
   "source": [
    "def reward_matrix(actions: List[Action], \n",
    "                  states: List[State], \n",
    "                  transitions: List[Transition]) -> np.array:\n",
    "    R = np.zeros((len(states), len(actions)))\n",
    "    for i, j, action, reward in transitions:\n",
    "        a = actions.index(action)\n",
    "        R[i, a] = 1\n",
    "    return R"
   ]
  },
  {
   "cell_type": "markdown",
   "metadata": {
    "id": "Wo3L_Mf912PW"
   },
   "source": [
    "Well done. Now, let's get the matrices and look at them."
   ]
  },
  {
   "cell_type": "code",
   "execution_count": 25,
   "metadata": {
    "colab": {
     "base_uri": "https://localhost:8080/"
    },
    "id": "dKSgijQmxJBA",
    "outputId": "a4ed8c57-0805-40b7-e2e9-8dfd3aec2f67"
   },
   "outputs": [
    {
     "ename": "TypeError",
     "evalue": "list indices must be integers or slices, not str",
     "output_type": "error",
     "traceback": [
      "\u001b[1;31m---------------------------------------------------------------------------\u001b[0m",
      "\u001b[1;31mTypeError\u001b[0m                                 Traceback (most recent call last)",
      "\u001b[1;32mc:\\Users\\fedti\\Desktop\\ZUI\\python_materials\\lab2.ipynb Cell 40'\u001b[0m in \u001b[0;36m<module>\u001b[1;34m\u001b[0m\n\u001b[0;32m      <a href='vscode-notebook-cell:/c%3A/Users/fedti/Desktop/ZUI/python_materials/lab2.ipynb#ch0000039?line=0'>1</a>\u001b[0m actions \u001b[39m=\u001b[39m [\u001b[39m\"\u001b[39m\u001b[39mu\u001b[39m\u001b[39m\"\u001b[39m, \u001b[39m\"\u001b[39m\u001b[39md\u001b[39m\u001b[39m\"\u001b[39m, \u001b[39m\"\u001b[39m\u001b[39ml\u001b[39m\u001b[39m\"\u001b[39m, \u001b[39m\"\u001b[39m\u001b[39mr\u001b[39m\u001b[39m\"\u001b[39m]\n\u001b[1;32m----> <a href='vscode-notebook-cell:/c%3A/Users/fedti/Desktop/ZUI/python_materials/lab2.ipynb#ch0000039?line=1'>2</a>\u001b[0m T \u001b[39m=\u001b[39m transition_matrix(actions, states, transitions)\n\u001b[0;32m      <a href='vscode-notebook-cell:/c%3A/Users/fedti/Desktop/ZUI/python_materials/lab2.ipynb#ch0000039?line=2'>3</a>\u001b[0m R \u001b[39m=\u001b[39m reward_matrix(actions, states, transitions)\n\u001b[0;32m      <a href='vscode-notebook-cell:/c%3A/Users/fedti/Desktop/ZUI/python_materials/lab2.ipynb#ch0000039?line=4'>5</a>\u001b[0m \u001b[39mprint\u001b[39m(\u001b[39m\"\u001b[39m\u001b[39mT:\u001b[39m\u001b[39m\"\u001b[39m, T\u001b[39m.\u001b[39mshape)\n",
      "\u001b[1;32mc:\\Users\\fedti\\Desktop\\ZUI\\python_materials\\lab2.ipynb Cell 35'\u001b[0m in \u001b[0;36mtransition_matrix\u001b[1;34m(actions, states, transitions)\u001b[0m\n\u001b[0;32m      <a href='vscode-notebook-cell:/c%3A/Users/fedti/Desktop/ZUI/python_materials/lab2.ipynb#ch0000034?line=4'>5</a>\u001b[0m T \u001b[39m=\u001b[39m np\u001b[39m.\u001b[39mzeros((\u001b[39mlen\u001b[39m(actions), \u001b[39mlen\u001b[39m(states), \u001b[39mlen\u001b[39m(states)))\n\u001b[0;32m      <a href='vscode-notebook-cell:/c%3A/Users/fedti/Desktop/ZUI/python_materials/lab2.ipynb#ch0000034?line=6'>7</a>\u001b[0m \u001b[39mfor\u001b[39;00m i, j, action, reward \u001b[39min\u001b[39;00m transitions:\n\u001b[1;32m----> <a href='vscode-notebook-cell:/c%3A/Users/fedti/Desktop/ZUI/python_materials/lab2.ipynb#ch0000034?line=7'>8</a>\u001b[0m     a \u001b[39m=\u001b[39m actions[action]\n\u001b[0;32m      <a href='vscode-notebook-cell:/c%3A/Users/fedti/Desktop/ZUI/python_materials/lab2.ipynb#ch0000034?line=8'>9</a>\u001b[0m     T[a, i, j] \u001b[39m=\u001b[39m \u001b[39m1\u001b[39m\n\u001b[0;32m     <a href='vscode-notebook-cell:/c%3A/Users/fedti/Desktop/ZUI/python_materials/lab2.ipynb#ch0000034?line=11'>12</a>\u001b[0m \u001b[39mreturn\u001b[39;00m T\n",
      "\u001b[1;31mTypeError\u001b[0m: list indices must be integers or slices, not str"
     ]
    }
   ],
   "source": [
    "actions = [\"u\", \"d\", \"l\", \"r\"]\n",
    "T = transition_matrix(actions, states, transitions)\n",
    "R = reward_matrix(actions, states, transitions)\n",
    "\n",
    "print(\"T:\", T.shape)\n",
    "print(T)\n",
    "print(\"\\nR:\", R.shape)\n",
    "print(R)"
   ]
  },
  {
   "cell_type": "markdown",
   "metadata": {},
   "source": [
    "## Task 3: Find optimal policy for all states"
   ]
  },
  {
   "cell_type": "markdown",
   "metadata": {
    "id": "DvfYueZ1Dgfp"
   },
   "source": [
    "From the `mdptoolbox` let's  choose a *value iteration* algorithm and run it. For now, it suffices to say it returns the optimal policy and value function. "
   ]
  },
  {
   "cell_type": "code",
   "execution_count": 28,
   "metadata": {
    "colab": {
     "base_uri": "https://localhost:8080/"
    },
    "id": "JmLrk-GWDlbj",
    "outputId": "4f07a7b8-8415-4aa3-a2b6-1cd71a0fccc6"
   },
   "outputs": [
    {
     "ename": "NameError",
     "evalue": "name 'T' is not defined",
     "output_type": "error",
     "traceback": [
      "\u001b[1;31m---------------------------------------------------------------------------\u001b[0m",
      "\u001b[1;31mNameError\u001b[0m                                 Traceback (most recent call last)",
      "\u001b[1;32mc:\\Users\\fedti\\Desktop\\ZUI\\python_materials\\lab2.ipynb Cell 43'\u001b[0m in \u001b[0;36m<module>\u001b[1;34m\u001b[0m\n\u001b[0;32m      <a href='vscode-notebook-cell:/c%3A/Users/fedti/Desktop/ZUI/python_materials/lab2.ipynb#ch0000042?line=0'>1</a>\u001b[0m \u001b[39m# We will implement value iteration algorithm later in the labs ourselves.\u001b[39;00m\n\u001b[0;32m      <a href='vscode-notebook-cell:/c%3A/Users/fedti/Desktop/ZUI/python_materials/lab2.ipynb#ch0000042?line=1'>2</a>\u001b[0m \u001b[39m# For now, we just use this library to demonstrate the algorithm.\u001b[39;00m\n\u001b[1;32m----> <a href='vscode-notebook-cell:/c%3A/Users/fedti/Desktop/ZUI/python_materials/lab2.ipynb#ch0000042?line=2'>3</a>\u001b[0m mdp \u001b[39m=\u001b[39m mdptoolbox\u001b[39m.\u001b[39mmdp\u001b[39m.\u001b[39mValueIteration(T, R, \n\u001b[0;32m      <a href='vscode-notebook-cell:/c%3A/Users/fedti/Desktop/ZUI/python_materials/lab2.ipynb#ch0000042?line=3'>4</a>\u001b[0m                                     \u001b[39m# You will learn about these parameters later.\u001b[39;00m\n\u001b[0;32m      <a href='vscode-notebook-cell:/c%3A/Users/fedti/Desktop/ZUI/python_materials/lab2.ipynb#ch0000042?line=4'>5</a>\u001b[0m                                     discount\u001b[39m=\u001b[39m\u001b[39m0.99\u001b[39m, epsilon\u001b[39m=\u001b[39m\u001b[39m0.01\u001b[39m, max_iter\u001b[39m=\u001b[39m\u001b[39m1000\u001b[39m)\n\u001b[0;32m      <a href='vscode-notebook-cell:/c%3A/Users/fedti/Desktop/ZUI/python_materials/lab2.ipynb#ch0000042?line=5'>6</a>\u001b[0m mdp\u001b[39m.\u001b[39mrun()\n\u001b[0;32m      <a href='vscode-notebook-cell:/c%3A/Users/fedti/Desktop/ZUI/python_materials/lab2.ipynb#ch0000042?line=7'>8</a>\u001b[0m \u001b[39m# Get the optimal policy.\u001b[39;00m\n",
      "\u001b[1;31mNameError\u001b[0m: name 'T' is not defined"
     ]
    }
   ],
   "source": [
    "# We will implement value iteration algorithm later in the labs ourselves.\n",
    "# For now, we just use this library to demonstrate the algorithm.\n",
    "mdp = mdptoolbox.mdp.ValueIteration(T, R, \n",
    "                                    # You will learn about these parameters later.\n",
    "                                    discount=0.99, epsilon=0.01, max_iter=1000)\n",
    "mdp.run()\n",
    "\n",
    "# Get the optimal policy.\n",
    "pi = mdp.policy\n",
    "\n",
    "print(\"π:\", pi)"
   ]
  },
  {
   "cell_type": "markdown",
   "metadata": {
    "id": "fL-j5qDaF9nn"
   },
   "source": [
    "Cool. Unlike BFS/DFS algorithms that searches for a way from initial state to a goal, the policy tells us an optimal action for **any** situation! \n",
    "\n",
    "\n"
   ]
  },
  {
   "cell_type": "markdown",
   "metadata": {
    "id": "FlQdqsveJU_c"
   },
   "source": [
    "Now, let's look at some states and what is the optimal action.\n"
   ]
  },
  {
   "cell_type": "code",
   "execution_count": null,
   "metadata": {
    "colab": {
     "base_uri": "https://localhost:8080/"
    },
    "id": "V0qo-cMNJacb",
    "outputId": "4b0fef55-31d9-420c-bc53-cb33fa3f85b9"
   },
   "outputs": [],
   "source": [
    "# Let's map action ids to action strings.\n",
    "pi_a = [actions[a_id] for a_id in pi]\n",
    "\n",
    "maze = maze3.copy()\n",
    "state_idx = states.index(maze)   # Find the state id.\n",
    "action = pi_a[state_idx]         # Optimal action id.\n",
    "\n",
    "print(maze)\n",
    "print(action)"
   ]
  },
  {
   "cell_type": "markdown",
   "metadata": {
    "id": "O32QxedVJUPp"
   },
   "source": [
    "Finally, let's follow the policy from the initial state and print its route. Let's see what happens."
   ]
  },
  {
   "cell_type": "code",
   "execution_count": null,
   "metadata": {
    "colab": {
     "base_uri": "https://localhost:8080/"
    },
    "id": "Ea6HMZT4GcTo",
    "outputId": "b8296c3a-8132-4edc-d7bb-95355ef5d1ce"
   },
   "outputs": [],
   "source": [
    "maze = maze3.copy()\n",
    "\n",
    "while maze.has_any_gold():\n",
    "    state_idx = states.index(maze)\n",
    "    optimal_action = pi_a[state_idx]\n",
    "\n",
    "    print(maze)\n",
    "    print(optimal_action)\n",
    "    print(\"\\n\")\n",
    "\n",
    "    maze.apply(optimal_action)\n",
    "\n",
    "print(maze)"
   ]
  },
  {
   "cell_type": "markdown",
   "metadata": {
    "id": "v5xRmuzLXQ3h"
   },
   "source": [
    "It grabs all the gold! Good job!"
   ]
  }
 ],
 "metadata": {
  "colab": {
   "collapsed_sections": [
    "ljpxkJDY79Sf",
    "caO-dKX_lVDR",
    "gOalfpwk9G2N"
   ],
   "name": "ZUI Lab 2 Teacher's Master.ipynb",
   "provenance": []
  },
  "kernelspec": {
   "display_name": "Python 3 (ipykernel)",
   "language": "python",
   "name": "python3"
  },
  "language_info": {
   "codemirror_mode": {
    "name": "ipython",
    "version": 3
   },
   "file_extension": ".py",
   "mimetype": "text/x-python",
   "name": "python",
   "nbconvert_exporter": "python",
   "pygments_lexer": "ipython3",
   "version": "3.10.2"
  }
 },
 "nbformat": 4,
 "nbformat_minor": 1
}
